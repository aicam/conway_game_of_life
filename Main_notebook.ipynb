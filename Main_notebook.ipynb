{
 "cells": [
  {
   "cell_type": "code",
   "execution_count": 1,
   "metadata": {},
   "outputs": [],
   "source": [
    "from utils import convert_boardtomatrix\n",
    "import matplotlib.pyplot as plt\n",
    "import pandas as pd\n",
    "import numpy as np\n",
    "import re\n",
    "from sklearn.model_selection import train_test_split\n",
    "\n",
    "\n",
    "\n",
    "\n",
    "\n",
    "def filter_string(str_arr, regex): \n",
    "    p = re.compile(regex)\n",
    "    return [ s for s in str_arr if p.match(s) ]"
   ]
  },
  {
   "cell_type": "code",
   "execution_count": 2,
   "metadata": {},
   "outputs": [],
   "source": [
    "df = pd.read_csv('data/train.csv')"
   ]
  },
  {
   "cell_type": "code",
   "execution_count": 3,
   "metadata": {},
   "outputs": [],
   "source": [
    "start_cols = filter_string(df.columns, 'start')\n",
    "stop_cols = filter_string(df.columns, 'stop')"
   ]
  },
  {
   "cell_type": "code",
   "execution_count": 4,
   "metadata": {},
   "outputs": [],
   "source": [
    "X = df[start_cols][:10000].to_numpy()\n",
    "Y = df[stop_cols][:10000].to_numpy()"
   ]
  },
  {
   "cell_type": "code",
   "execution_count": 34,
   "metadata": {},
   "outputs": [],
   "source": [
    "x_train, x_test, y_train, y_test = train_test_split(X, Y, test_size=0.3)\n",
    "x_train = x_train.reshape([-1, 25, 25, 1])\n",
    "x_test = x_test.reshape([-1, 25, 25, 1])"
   ]
  },
  {
   "cell_type": "code",
   "execution_count": 58,
   "metadata": {},
   "outputs": [],
   "source": [
    "from tensorflow.keras import models, layers, losses\n",
    "def build_CNN():\n",
    "    model = models.Sequential()\n",
    "    model.add(layers.Conv2D(8, (3, 3), activation='relu', input_shape=(25, 25, 1)))\n",
    "    model.add(layers.MaxPooling2D((2, 2)))\n",
    "    model.add(layers.Conv2D(16, (2, 2), activation='relu'))\n",
    "    model.add(layers.Flatten())\n",
    "    model.add(layers.Dense(625, activation='sigmoid'))\n",
    "    model.compile(optimizer='adam',\n",
    "              loss='MSE',\n",
    "              metrics=['accuracy'])\n",
    "    return model"
   ]
  },
  {
   "cell_type": "code",
   "execution_count": 59,
   "metadata": {},
   "outputs": [
    {
     "name": "stdout",
     "output_type": "stream",
     "text": [
      "Model: \"sequential_21\"\n",
      "_________________________________________________________________\n",
      "Layer (type)                 Output Shape              Param #   \n",
      "=================================================================\n",
      "conv2d_36 (Conv2D)           (None, 23, 23, 8)         80        \n",
      "_________________________________________________________________\n",
      "max_pooling2d_15 (MaxPooling (None, 11, 11, 8)         0         \n",
      "_________________________________________________________________\n",
      "conv2d_37 (Conv2D)           (None, 10, 10, 16)        528       \n",
      "_________________________________________________________________\n",
      "flatten_15 (Flatten)         (None, 1600)              0         \n",
      "_________________________________________________________________\n",
      "dense_15 (Dense)             (None, 625)               1000625   \n",
      "=================================================================\n",
      "Total params: 1,001,233\n",
      "Trainable params: 1,001,233\n",
      "Non-trainable params: 0\n",
      "_________________________________________________________________\n"
     ]
    }
   ],
   "source": [
    "model = build_CNN()\n",
    "model.summary()"
   ]
  },
  {
   "cell_type": "code",
   "execution_count": 60,
   "metadata": {},
   "outputs": [
    {
     "name": "stdout",
     "output_type": "stream",
     "text": [
      "Epoch 1/10\n",
      "219/219 [==============================] - 3s 14ms/step - loss: 0.1297 - accuracy: 0.0027 - val_loss: 0.1152 - val_accuracy: 0.0070\n",
      "Epoch 2/10\n",
      "219/219 [==============================] - 3s 14ms/step - loss: 0.1119 - accuracy: 0.0093 - val_loss: 0.1104 - val_accuracy: 0.0110\n",
      "Epoch 3/10\n",
      "219/219 [==============================] - 3s 14ms/step - loss: 0.1071 - accuracy: 0.0104 - val_loss: 0.1089 - val_accuracy: 0.0123\n",
      "Epoch 4/10\n",
      "219/219 [==============================] - 3s 14ms/step - loss: 0.1036 - accuracy: 0.0111 - val_loss: 0.1085 - val_accuracy: 0.0083\n",
      "Epoch 5/10\n",
      "219/219 [==============================] - 3s 14ms/step - loss: 0.1003 - accuracy: 0.0134 - val_loss: 0.1092 - val_accuracy: 0.0107\n",
      "Epoch 6/10\n",
      "219/219 [==============================] - 3s 14ms/step - loss: 0.0970 - accuracy: 0.0159 - val_loss: 0.1102 - val_accuracy: 0.0143\n",
      "Epoch 7/10\n",
      "219/219 [==============================] - 3s 14ms/step - loss: 0.0936 - accuracy: 0.0170 - val_loss: 0.1123 - val_accuracy: 0.0113\n",
      "Epoch 8/10\n",
      "219/219 [==============================] - 3s 14ms/step - loss: 0.0903 - accuracy: 0.0159 - val_loss: 0.1143 - val_accuracy: 0.0113\n",
      "Epoch 9/10\n",
      "219/219 [==============================] - 3s 15ms/step - loss: 0.0870 - accuracy: 0.0189 - val_loss: 0.1171 - val_accuracy: 0.0133\n",
      "Epoch 10/10\n",
      "219/219 [==============================] - 3s 14ms/step - loss: 0.0840 - accuracy: 0.0191 - val_loss: 0.1196 - val_accuracy: 0.0107\n"
     ]
    }
   ],
   "source": [
    "history = model.fit(x_train, y_train, epochs=10, validation_data=(x_test, y_test))"
   ]
  },
  {
   "cell_type": "code",
   "execution_count": 64,
   "metadata": {},
   "outputs": [
    {
     "data": {
      "text/plain": [
       "[<matplotlib.lines.Line2D at 0x7fe12a9f5ef0>]"
      ]
     },
     "execution_count": 64,
     "metadata": {},
     "output_type": "execute_result"
    },
    {
     "data": {
      "image/png": "[encoded data removed]",
      "text/plain": [
       "<Figure size 432x288 with 1 Axes>"
      ]
     },
     "metadata": {
      "needs_background": "light"
     },
     "output_type": "display_data"
    }
   ],
   "source": [
    "plt.plot(history.history['loss'])"
   ]
  }
 ],
 "metadata": {
  "kernelspec": {
   "display_name": "Python 3",
   "language": "python",
   "name": "python3"
  },
  "language_info": {
   "codemirror_mode": {
    "name": "ipython",
    "version": 3
   },
   "file_extension": ".py",
   "mimetype": "text/x-python",
   "name": "python",
   "nbconvert_exporter": "python",
   "pygments_lexer": "ipython3",
   "version": "3.6.9"
  }
 },
 "nbformat": 4,
 "nbformat_minor": 4
}

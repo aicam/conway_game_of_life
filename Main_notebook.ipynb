{
 "cells": [
  {
   "cell_type": "code",
   "execution_count": 1,
   "metadata": {},
   "outputs": [],
   "source": [
    "from utils import convert_boardtomatrix\n",
    "import matplotlib.pyplot as plt\n",
    "import pandas as pd\n",
    "import numpy as np\n",
    "import re\n",
    "from sklearn.model_selection import train_test_split\n",
    "from tensorflow.keras import models, layers, losses\n",
    "import tensorflow as tf\n",
    "import tensorflow.keras as keras\n",
    "\n",
    "\n",
    "\n",
    "def filter_string(str_arr, regex): \n",
    "    p = re.compile(regex)\n",
    "    return [ s for s in str_arr if p.match(s) ]"
   ]
  },
  {
   "cell_type": "code",
   "execution_count": 2,
   "metadata": {},
   "outputs": [],
   "source": [
    "df = pd.read_csv('data/train.csv')"
   ]
  },
  {
   "cell_type": "code",
   "execution_count": 4,
   "metadata": {},
   "outputs": [],
   "source": [
    "start_cols = filter_string(df.columns, 'start')\n",
    "stop_cols = filter_string(df.columns, 'stop')"
   ]
  },
  {
   "cell_type": "code",
   "execution_count": 5,
   "metadata": {},
   "outputs": [],
   "source": [
    "X = df[start_cols][:10000].to_numpy()\n",
    "Y = df[stop_cols][:10000].to_numpy()"
   ]
  },
  {
   "cell_type": "code",
   "execution_count": 6,
   "metadata": {},
   "outputs": [],
   "source": [
    "x_train, x_test, y_train, y_test = train_test_split(X, Y, test_size=0.3)\n",
    "x_train = x_train.reshape([-1, 25, 25, 1])\n",
    "x_train = np.array([convert_boardtomatrix(tm.reshape([25, 25])) for tm in x_train]).reshape([-1, 25, 25, 1])\n",
    "x_test = np.array([convert_boardtomatrix(tm.reshape([25, 25])) for tm in x_test]).reshape([-1, 25, 25, 1])"
   ]
  },
  {
   "cell_type": "code",
   "execution_count": 59,
   "metadata": {},
   "outputs": [],
   "source": [
    "def build_CNN():\n",
    "    model = models.Sequential()\n",
    "    model.add(layers.Conv2D(8, (3, 3), activation='relu', input_shape=(25, 25, 1)))\n",
    "    model.add(layers.MaxPooling2D((2, 2)))\n",
    "    model.add(layers.Conv2D(16, (2, 2), activation='relu'))\n",
    "    model.add(layers.MaxPooling2D((2, 2)))\n",
    "    model.add(layers.Flatten())\n",
    "    model.add(layers.Dropout(0.1))\n",
    "    model.add(layers.Dense(625, activation='hard_sigmoid'))\n",
    "    model.compile(optimizer='adam',\n",
    "              loss='MSE',\n",
    "              metrics=['accuracy'])\n",
    "    return model"
   ]
  },
  {
   "cell_type": "code",
   "execution_count": 60,
   "metadata": {},
   "outputs": [
    {
     "name": "stdout",
     "output_type": "stream",
     "text": [
      "Model: \"sequential_18\"\n",
      "_________________________________________________________________\n",
      "Layer (type)                 Output Shape              Param #   \n",
      "=================================================================\n",
      "conv2d_42 (Conv2D)           (None, 23, 23, 8)         80        \n",
      "_________________________________________________________________\n",
      "max_pooling2d_19 (MaxPooling (None, 11, 11, 8)         0         \n",
      "_________________________________________________________________\n",
      "conv2d_43 (Conv2D)           (None, 10, 10, 16)        528       \n",
      "_________________________________________________________________\n",
      "max_pooling2d_20 (MaxPooling (None, 5, 5, 16)          0         \n",
      "_________________________________________________________________\n",
      "flatten_17 (Flatten)         (None, 400)               0         \n",
      "_________________________________________________________________\n",
      "dropout_6 (Dropout)          (None, 400)               0         \n",
      "_________________________________________________________________\n",
      "dense_17 (Dense)             (None, 625)               250625    \n",
      "=================================================================\n",
      "Total params: 251,233\n",
      "Trainable params: 251,233\n",
      "Non-trainable params: 0\n",
      "_________________________________________________________________\n"
     ]
    }
   ],
   "source": [
    "model = build_CNN()\n",
    "model.summary()"
   ]
  },
  {
   "cell_type": "code",
   "execution_count": 61,
   "metadata": {},
   "outputs": [
    {
     "name": "stdout",
     "output_type": "stream",
     "text": [
      "Epoch 1/10\n",
      "219/219 [==============================] - 2s 10ms/step - loss: 0.1329 - accuracy: 0.0034 - val_loss: 0.1176 - val_accuracy: 0.0077\n",
      "Epoch 2/10\n",
      "219/219 [==============================] - 2s 9ms/step - loss: 0.1149 - accuracy: 0.0081 - val_loss: 0.1146 - val_accuracy: 0.0117\n",
      "Epoch 3/10\n",
      "219/219 [==============================] - 2s 9ms/step - loss: 0.1120 - accuracy: 0.0103 - val_loss: 0.1127 - val_accuracy: 0.0080\n",
      "Epoch 4/10\n",
      "219/219 [==============================] - 2s 9ms/step - loss: 0.1102 - accuracy: 0.0111 - val_loss: 0.1118 - val_accuracy: 0.0107\n",
      "Epoch 5/10\n",
      "219/219 [==============================] - 2s 9ms/step - loss: 0.1091 - accuracy: 0.0113 - val_loss: 0.1114 - val_accuracy: 0.0100\n",
      "Epoch 6/10\n",
      "219/219 [==============================] - 2s 10ms/step - loss: 0.1083 - accuracy: 0.0111 - val_loss: 0.1112 - val_accuracy: 0.0110\n",
      "Epoch 7/10\n",
      "219/219 [==============================] - 2s 9ms/step - loss: 0.1075 - accuracy: 0.0117 - val_loss: 0.1108 - val_accuracy: 0.0133\n",
      "Epoch 8/10\n",
      "219/219 [==============================] - 2s 9ms/step - loss: 0.1069 - accuracy: 0.0101 - val_loss: 0.1107 - val_accuracy: 0.0113\n",
      "Epoch 9/10\n",
      "219/219 [==============================] - 2s 9ms/step - loss: 0.1063 - accuracy: 0.0111 - val_loss: 0.1106 - val_accuracy: 0.0153\n",
      "Epoch 10/10\n",
      "219/219 [==============================] - 2s 10ms/step - loss: 0.1058 - accuracy: 0.0100 - val_loss: 0.1107 - val_accuracy: 0.0130\n"
     ]
    }
   ],
   "source": [
    "history = model.fit(x_train, y_train, epochs=10, validation_data=(x_test, y_test))"
   ]
  },
  {
   "cell_type": "code",
   "execution_count": 29,
   "metadata": {},
   "outputs": [
    {
     "data": {
      "text/plain": [
       "[<matplotlib.lines.Line2D at 0x7eff4c2a6dd8>]"
      ]
     },
     "execution_count": 29,
     "metadata": {},
     "output_type": "execute_result"
    },
    {
     "data": {
      "image/png": "[encoded data removed]",
      "text/plain": [
       "<Figure size 432x288 with 1 Axes>"
      ]
     },
     "metadata": {
      "needs_background": "light"
     },
     "output_type": "display_data"
    }
   ],
   "source": [
    "plt.plot(history.history['val_accuracy'])"
   ]
  }
 ],
 "metadata": {
  "kernelspec": {
   "display_name": "Python 3",
   "language": "python",
   "name": "python3"
  },
  "language_info": {
   "codemirror_mode": {
    "name": "ipython",
    "version": 3
   },
   "file_extension": ".py",
   "mimetype": "text/x-python",
   "name": "python",
   "nbconvert_exporter": "python",
   "pygments_lexer": "ipython3",
   "version": "3.6.9"
  }
 },
 "nbformat": 4,
 "nbformat_minor": 4
}

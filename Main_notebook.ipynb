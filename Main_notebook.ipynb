{
 "cells": [
  {
   "cell_type": "code",
   "execution_count": null,
   "metadata": {},
   "outputs": [],
   "source": [
    "from ntm import NTMCell\n",
    "import tensorflow as tf\n",
    "\n",
    "cell = NTMCell(20, 1, 20, 100,\n",
    "               10, 10, shift_range=3, output_dim=1,\n",
    "               clip_value=2)\n",
    "\n",
    "# Initialization\n",
    "model = tf.keras.models.Sequential()\n",
    "ntm = tf.keras.layers.RNN(\n",
    "    cell=cell, return_sequences=True, return_state=False,\n",
    "    stateful=False, unroll=True)\n",
    "model.add(ntm)\n",
    "model.build([1,25,25])\n",
    "\n",
    "# Run\n",
    "# outputs = ntm(inputs)\n"
   ]
  }
 ],
 "metadata": {
  "kernelspec": {
   "display_name": "Python 3",
   "language": "python",
   "name": "python3"
  },
  "language_info": {
   "codemirror_mode": {
    "name": "ipython",
    "version": 3
   },
   "file_extension": ".py",
   "mimetype": "text/x-python",
   "name": "python",
   "nbconvert_exporter": "python",
   "pygments_lexer": "ipython3",
   "version": "3.6.9"
  }
 },
 "nbformat": 4,
 "nbformat_minor": 4
}
